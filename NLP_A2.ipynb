{
  "nbformat": 4,
  "nbformat_minor": 0,
  "metadata": {
    "colab": {
      "provenance": [],
      "include_colab_link": true
    },
    "kernelspec": {
      "name": "python3",
      "display_name": "Python 3"
    },
    "language_info": {
      "name": "python"
    }
  },
  "cells": [
    {
      "cell_type": "markdown",
      "metadata": {
        "id": "view-in-github",
        "colab_type": "text"
      },
      "source": [
        "<a href=\"https://colab.research.google.com/github/nihalaltay/turkish-spanish-city-name-generator-LM/blob/main/NLP_A2.ipynb\" target=\"_parent\"><img src=\"https://colab.research.google.com/assets/colab-badge.svg\" alt=\"Open In Colab\"/></a>"
      ]
    },
    {
      "cell_type": "code",
      "execution_count": 1,
      "metadata": {
        "id": "vowXRstocd8F"
      },
      "outputs": [],
      "source": [
        "import pandas as pd\n",
        "import torch\n",
        "import torch.nn.functional as F\n",
        "import matplotlib.pyplot as plt # for making figures\n",
        "%matplotlib inline"
      ]
    },
    {
      "cell_type": "code",
      "source": [
        "#---*-**-*--- Spanish City Name Generator Model ---*-**-*---#\n",
        "\n",
        "# Form the dataset: Get Spanish city names\n",
        "\n",
        "# Direct download link\n",
        "download_url = 'https://drive.google.com/uc?export=download&id=111bav2EnTulNFfWTskyGbUzkAUwkbW9g'\n",
        "\n",
        "# Load the CSV file (dfs: dataframe spain)\n",
        "dfs = pd.read_csv(download_url)\n",
        "\n",
        "# Preview the first few rows\n",
        "# print(dfs.head())\n",
        "\n",
        "# Check the column names to identify which one contains the city names\n",
        "print(\"\\nColumn Names:\")\n",
        "print(dfs.columns)\n",
        "\n",
        "# Keep only the city names column and drop others\n",
        "dfs_clean = dfs[['name']]\n",
        "\n",
        "# Remove duplicates and any leading/trailing spaces\n",
        "dfs_clean['name'] = dfs_clean['name'].str.strip()\n",
        "dfs_clean = dfs_clean.drop_duplicates()\n",
        "\n",
        "# Display cleaned data\n",
        "print(\"\\nCleaned DataFrame:\")\n",
        "print(dfs_clean.head())"
      ],
      "metadata": {
        "colab": {
          "base_uri": "https://localhost:8080/"
        },
        "id": "3IX5t_E1y0CO",
        "outputId": "6df58b60-fec5-4db3-8b35-b176b2605ade"
      },
      "execution_count": 2,
      "outputs": [
        {
          "output_type": "stream",
          "name": "stdout",
          "text": [
            "\n",
            "Column Names:\n",
            "Index(['code', 'postal_code', 'name', 'phone_code', 'iso2'], dtype='object')\n",
            "\n",
            "Cleaned DataFrame:\n",
            "       name\n",
            "0     Álava\n",
            "1  Albacete\n",
            "2   Alacant\n",
            "3   Almería\n",
            "4     Ávila\n"
          ]
        },
        {
          "output_type": "stream",
          "name": "stderr",
          "text": [
            "<ipython-input-2-484e2cd329ec>:22: SettingWithCopyWarning: \n",
            "A value is trying to be set on a copy of a slice from a DataFrame.\n",
            "Try using .loc[row_indexer,col_indexer] = value instead\n",
            "\n",
            "See the caveats in the documentation: https://pandas.pydata.org/pandas-docs/stable/user_guide/indexing.html#returning-a-view-versus-a-copy\n",
            "  dfs_clean['name'] = dfs_clean['name'].str.strip()\n"
          ]
        }
      ]
    },
    {
      "cell_type": "code",
      "source": [
        "# Process the dataset. Make it into a list. Remove dots too, because they conflict with dots marking the end of teh words, hindering the training.\n",
        "es_cities = dfs['name'].dropna().str.lower().str.replace('.', '', regex=False).tolist()\n",
        "\n",
        "# Preview the first few elements\n",
        "print(es_cities[:10])"
      ],
      "metadata": {
        "colab": {
          "base_uri": "https://localhost:8080/"
        },
        "id": "uH2MGP4FcidR",
        "outputId": "aca335e6-08db-4bd7-c506-3a755a672972"
      },
      "execution_count": 3,
      "outputs": [
        {
          "output_type": "stream",
          "name": "stdout",
          "text": [
            "['álava', 'albacete', 'alacant', 'almería', 'ávila', 'badajoz', 'illes balears', 'barcelona', 'burgos', 'cáceres']\n"
          ]
        }
      ]
    },
    {
      "cell_type": "code",
      "source": [
        "len(es_cities)"
      ],
      "metadata": {
        "colab": {
          "base_uri": "https://localhost:8080/"
        },
        "id": "FbakoEqAcvnF",
        "outputId": "2632fb63-2474-4ab0-d7af-e48fc1518d9e"
      },
      "execution_count": 4,
      "outputs": [
        {
          "output_type": "execute_result",
          "data": {
            "text/plain": [
              "52"
            ]
          },
          "metadata": {},
          "execution_count": 4
        }
      ]
    },
    {
      "cell_type": "code",
      "source": [
        "# Build the vocabulary of characters and mappings to/from integers\n",
        "chars = sorted(list(set(''.join(es_cities))))\n",
        "stoi = {s:i+1 for i,s in enumerate(chars)}\n",
        "stoi['.'] = 0\n",
        "itos = {i:s for s,i in stoi.items()}\n",
        "print(itos)"
      ],
      "metadata": {
        "colab": {
          "base_uri": "https://localhost:8080/"
        },
        "id": "EYnXhmWVcx-l",
        "outputId": "4ede55d1-ceb9-4972-e73d-22ba2da9c1f5"
      },
      "execution_count": 5,
      "outputs": [
        {
          "output_type": "stream",
          "name": "stdout",
          "text": [
            "{1: ' ', 2: 'a', 3: 'b', 4: 'c', 5: 'd', 6: 'e', 7: 'f', 8: 'g', 9: 'h', 10: 'i', 11: 'j', 12: 'k', 13: 'l', 14: 'm', 15: 'n', 16: 'o', 17: 'p', 18: 'r', 19: 's', 20: 't', 21: 'u', 22: 'v', 23: 'z', 24: 'á', 25: 'é', 26: 'í', 27: 'ñ', 28: 'ó', 0: '.'}\n"
          ]
        }
      ]
    },
    {
      "cell_type": "code",
      "source": [
        "# Build the new dataset\n",
        "block_size = 3 # context length: how many characters do we take to predict the next one.\n",
        "\n",
        "def build_dataset(es_cities):\n",
        "  X, Y = [], []\n",
        "  for w in es_cities:\n",
        "\n",
        "    #print(w)\n",
        "    context = [0] * block_size\n",
        "    for ch in w + '.':\n",
        "      ix = stoi[ch]\n",
        "      X.append(context)\n",
        "      Y.append(ix)\n",
        "      #print(''.join(itos[i] for i in context), '--->', itos[ix])\n",
        "      context = context[1:] + [ix] # crop and append\n",
        "\n",
        "  X = torch.tensor(X)\n",
        "  Y = torch.tensor(Y)\n",
        "  print(X.shape, Y.shape)\n",
        "  return X, Y\n",
        "\n",
        "import random\n",
        "random.seed(42)\n",
        "random.shuffle(es_cities)\n",
        "n1 = int(0.8*len(es_cities))\n",
        "n2 = int(0.9*len(es_cities))\n",
        "\n",
        "Xtr, Ytr = build_dataset(es_cities[:n1])\n",
        "Xdev, Ydev = build_dataset(es_cities[n1:n2])\n",
        "Xte, Yte = build_dataset(es_cities[n2:])"
      ],
      "metadata": {
        "colab": {
          "base_uri": "https://localhost:8080/"
        },
        "id": "MB5XgJxdczFi",
        "outputId": "90591987-d967-4484-f917-1bb93556e69f"
      },
      "execution_count": 6,
      "outputs": [
        {
          "output_type": "stream",
          "name": "stdout",
          "text": [
            "torch.Size([340, 3]) torch.Size([340])\n",
            "torch.Size([49, 3]) torch.Size([49])\n",
            "torch.Size([50, 3]) torch.Size([50])\n"
          ]
        }
      ]
    },
    {
      "cell_type": "code",
      "source": [
        "g = torch.Generator().manual_seed(2147483647) # for reproducibility\n",
        "C = torch.randn((29, 10), generator=g)\n",
        "W1 = torch.randn((30, 200), generator=g)\n",
        "b1 = torch.randn(200, generator=g)\n",
        "W2 = torch.randn((200, 29), generator=g)\n",
        "b2 = torch.randn(29, generator=g)\n",
        "parameters = [C, W1, b1, W2, b2]"
      ],
      "metadata": {
        "id": "EAA0_oigc13X"
      },
      "execution_count": 7,
      "outputs": []
    },
    {
      "cell_type": "code",
      "source": [
        "sum(p.nelement() for p in parameters) # number of parameters in total"
      ],
      "metadata": {
        "colab": {
          "base_uri": "https://localhost:8080/"
        },
        "id": "_HcVef6-c5S4",
        "outputId": "ba626569-5506-440c-f312-47a4bde083fb"
      },
      "execution_count": 8,
      "outputs": [
        {
          "output_type": "execute_result",
          "data": {
            "text/plain": [
              "12319"
            ]
          },
          "metadata": {},
          "execution_count": 8
        }
      ]
    },
    {
      "cell_type": "code",
      "source": [
        "for p in parameters:\n",
        "  p.requires_grad = True"
      ],
      "metadata": {
        "id": "coNBea1sc6tm"
      },
      "execution_count": 9,
      "outputs": []
    },
    {
      "cell_type": "code",
      "source": [
        "lre = torch.linspace(-3, 0, 1000)\n",
        "lrs = 10**lre"
      ],
      "metadata": {
        "id": "nFWpAj_9c9Yr"
      },
      "execution_count": 10,
      "outputs": []
    },
    {
      "cell_type": "code",
      "source": [
        "lri = []\n",
        "lossi = []\n",
        "stepi = []"
      ],
      "metadata": {
        "id": "t2huuyTudBlF"
      },
      "execution_count": 11,
      "outputs": []
    },
    {
      "cell_type": "code",
      "source": [
        "#Training the model\n",
        "\n",
        "num_iterations = 50000\n",
        "batch_size = 32\n",
        "\n",
        "for i in range(num_iterations):\n",
        "\n",
        "  # minibatch construct\n",
        "  ix = torch.randint(0, Xtr.shape[0], (batch_size,))\n",
        "\n",
        "  # forward pass\n",
        "  emb = C[Xtr[ix]] # (batch_size, 3, 10)\n",
        "  h = torch.tanh(emb.view(-1, 30) @ W1 + b1) # (batch_size, hidden_units)\n",
        "  logits = h @ W2 + b2 # (batch_size, 27)\n",
        "  loss = F.cross_entropy(logits, Ytr[ix])\n",
        "\n",
        "  # backward pass\n",
        "  for p in parameters:\n",
        "    p.grad = None\n",
        "  loss.backward()\n",
        "\n",
        "  # learning rate schedule\n",
        "  if i < 10000:\n",
        "    lr = 0.005\n",
        "  elif i < 30000:\n",
        "    lr = 0.001\n",
        "  else:\n",
        "    lr = 0.0001\n",
        "\n",
        "  # parameter update\n",
        "  for p in parameters:\n",
        "    p.data += -lr * p.grad\n",
        "\n",
        "  # track stats\n",
        "  stepi.append(i)\n",
        "  lossi.append(loss.log10().item())\n",
        "\n",
        "  if i % 5000 == 0:  # Print progress every 5000 steps\n",
        "    print(f\"Iteration {i}, Loss: {loss.item():.4f}\")"
      ],
      "metadata": {
        "id": "m_fkBmXn4oEy",
        "colab": {
          "base_uri": "https://localhost:8080/"
        },
        "outputId": "48c07511-867d-4261-d9cf-93c5cb632f2c"
      },
      "execution_count": 12,
      "outputs": [
        {
          "output_type": "stream",
          "name": "stdout",
          "text": [
            "Iteration 0, Loss: 26.5276\n",
            "Iteration 5000, Loss: 0.3507\n",
            "Iteration 10000, Loss: 0.5237\n",
            "Iteration 15000, Loss: 0.5310\n",
            "Iteration 20000, Loss: 0.6790\n",
            "Iteration 25000, Loss: 0.7471\n",
            "Iteration 30000, Loss: 0.3861\n",
            "Iteration 35000, Loss: 0.3183\n",
            "Iteration 40000, Loss: 0.5610\n",
            "Iteration 45000, Loss: 0.3039\n"
          ]
        }
      ]
    },
    {
      "cell_type": "code",
      "source": [
        "plt.plot(stepi, lossi)"
      ],
      "metadata": {
        "colab": {
          "base_uri": "https://localhost:8080/",
          "height": 447
        },
        "id": "ZBAYXZ_rdGIG",
        "outputId": "51dcbc96-74e6-4116-faec-741886ef6b49"
      },
      "execution_count": 13,
      "outputs": [
        {
          "output_type": "execute_result",
          "data": {
            "text/plain": [
              "[<matplotlib.lines.Line2D at 0x7bc36d68b9d0>]"
            ]
          },
          "metadata": {},
          "execution_count": 13
        },
        {
          "output_type": "display_data",
          "data": {
            "text/plain": [
              "<Figure size 640x480 with 1 Axes>"
            ],
            "image/png": "[encoded data removed]"
          },
          "metadata": {}
        }
      ]
    },
    {
      "cell_type": "code",
      "source": [
        "# training loss\n",
        "emb = C[Xtr] # (32, 3, 2)\n",
        "h = torch.tanh(emb.view(-1, 30) @ W1 + b1) # (32, 100)\n",
        "logits = h @ W2 + b2 # (32, 27)\n",
        "loss = F.cross_entropy(logits, Ytr)\n",
        "loss"
      ],
      "metadata": {
        "colab": {
          "base_uri": "https://localhost:8080/"
        },
        "id": "ZlhYinNgdIVF",
        "outputId": "05736add-e63d-464c-9e65-4737c9fca668"
      },
      "execution_count": 14,
      "outputs": [
        {
          "output_type": "execute_result",
          "data": {
            "text/plain": [
              "tensor(0.5051, grad_fn=<NllLossBackward0>)"
            ]
          },
          "metadata": {},
          "execution_count": 14
        }
      ]
    },
    {
      "cell_type": "code",
      "source": [
        "# validation loss\n",
        "emb = C[Xdev] # (32, 3, 2)\n",
        "h = torch.tanh(emb.view(-1, 30) @ W1 + b1) # (32, 100)\n",
        "logits = h @ W2 + b2 # (32, 27)\n",
        "loss = F.cross_entropy(logits, Ydev)\n",
        "loss"
      ],
      "metadata": {
        "colab": {
          "base_uri": "https://localhost:8080/"
        },
        "id": "cJH3DDu4dLTM",
        "outputId": "3455dfee-1fe9-49c8-b1d6-ce41a971752b"
      },
      "execution_count": 15,
      "outputs": [
        {
          "output_type": "execute_result",
          "data": {
            "text/plain": [
              "tensor(14.8398, grad_fn=<NllLossBackward0>)"
            ]
          },
          "metadata": {},
          "execution_count": 15
        }
      ]
    },
    {
      "cell_type": "code",
      "source": [
        "# test loss\n",
        "emb = C[Xte] # (32, 3, 2)\n",
        "h = torch.tanh(emb.view(-1, 30) @ W1 + b1) # (32, 100)\n",
        "logits = h @ W2 + b2 # (32, 27)\n",
        "loss = F.cross_entropy(logits, Yte)\n",
        "loss"
      ],
      "metadata": {
        "colab": {
          "base_uri": "https://localhost:8080/"
        },
        "id": "DwOgCg1vdNhe",
        "outputId": "2822f258-781a-47e4-af52-1597cf3d5911"
      },
      "execution_count": 16,
      "outputs": [
        {
          "output_type": "execute_result",
          "data": {
            "text/plain": [
              "tensor(11.1385, grad_fn=<NllLossBackward0>)"
            ]
          },
          "metadata": {},
          "execution_count": 16
        }
      ]
    },
    {
      "cell_type": "code",
      "source": [
        "# visualize dimensions 0 and 1 of the embedding matrix C for all characters\n",
        "plt.figure(figsize=(8,8))\n",
        "plt.scatter(C[:,0].data, C[:,1].data, s=200)\n",
        "for i in range(C.shape[0]):\n",
        "    plt.text(C[i,0].item(), C[i,1].item(), itos[i], ha=\"center\", va=\"center\", color='white')\n",
        "plt.grid('minor')"
      ],
      "metadata": {
        "colab": {
          "base_uri": "https://localhost:8080/",
          "height": 676
        },
        "id": "CCWLYP9GdPP4",
        "outputId": "39cb40d9-c41a-41cb-8ecd-003800ea564b"
      },
      "execution_count": 17,
      "outputs": [
        {
          "output_type": "display_data",
          "data": {
            "text/plain": [
              "<Figure size 800x800 with 1 Axes>"
            ],
            "image/png": "[encoded data removed]"
          },
          "metadata": {}
        }
      ]
    },
    {
      "cell_type": "code",
      "source": [
        "# sample from the model\n",
        "g = torch.Generator().manual_seed(2147483647 + 10)\n",
        "\n",
        "for _ in range(20):\n",
        "\n",
        "    out = []\n",
        "    context = [0] * block_size # initialize with all ...\n",
        "    while True:\n",
        "      emb = C[torch.tensor([context])] # (1,block_size,d)\n",
        "      h = torch.tanh(emb.view(1, -1) @ W1 + b1)\n",
        "      logits = h @ W2 + b2\n",
        "      probs = F.softmax(logits, dim=1)\n",
        "      ix = torch.multinomial(probs, num_samples=1, generator=g).item()\n",
        "      context = context[1:] + [ix]\n",
        "      out.append(ix)\n",
        "      if ix == 0:\n",
        "        break\n",
        "\n",
        "    print(''.join(itos[i] for i in out))"
      ],
      "metadata": {
        "colab": {
          "base_uri": "https://localhost:8080/"
        },
        "id": "TQUMmgRrdRIA",
        "outputId": "4dfde2e2-849a-4a84-9360-32b517c629f1"
      },
      "execution_count": 18,
      "outputs": [
        {
          "output_type": "stream",
          "name": "stdout",
          "text": [
            "la rioja.\n",
            "casturia.\n",
            "gipuzkoa.\n",
            "la rioja.\n",
            "ceuta.\n",
            "girona.\n",
            "huelva.\n",
            "ourense.\n",
            "valladolid.\n",
            "astelló.\n",
            "cansovia.\n",
            "salamanca.\n",
            "murcia.\n",
            "valla.\n",
            "ourense.\n",
            "lugo.\n",
            "lugo.\n",
            "ávila.\n",
            "guadalacantabrias.\n",
            "segovia.\n"
          ]
        }
      ]
    },
    {
      "cell_type": "code",
      "source": [
        "#---*-**-*--- Turkish City Name Generator Model ---*-**-*---#\n",
        "\n",
        "# Form the dataset: Get Turkish city names\n",
        "\n",
        "# Direct download link\n",
        "download_url = 'https://docs.google.com/spreadsheets/d/17P_60-tt8ulF3yVlB3-kJHn1Z7Geqe5q/export?format=csv'\n",
        "\n",
        "# Load the CSV file (dft: dataframe türkiye)\n",
        "dft = pd.read_csv(download_url)\n",
        "\n",
        "# Preview the first few rows\n",
        "# print(dft.head())\n",
        "\n",
        "# Check the column names to identify which one contains the city names\n",
        "print(\"\\nColumn Names:\")\n",
        "print(dft.columns)\n",
        "\n",
        "# Keep only the city names column and drop others\n",
        "dft_clean = dft[['İl']]\n",
        "\n",
        "# Remove duplicates and any leading/trailing spaces\n",
        "dft_clean['İl'] = dft_clean['İl'].str.strip()\n",
        "dft_clean = dft_clean.drop_duplicates()\n",
        "\n",
        "# Display cleaned data\n",
        "print(\"\\nCleaned DataFrame:\")\n",
        "print(dft_clean.head())"
      ],
      "metadata": {
        "id": "iwENKZS7dT_5",
        "colab": {
          "base_uri": "https://localhost:8080/"
        },
        "outputId": "2884e98d-ce14-4659-8980-cab86d8ff04f"
      },
      "execution_count": 19,
      "outputs": [
        {
          "output_type": "stream",
          "name": "stdout",
          "text": [
            "\n",
            "Column Names:\n",
            "Index(['İl'], dtype='object')\n",
            "\n",
            "Cleaned DataFrame:\n",
            "               İl\n",
            "0           Adana\n",
            "1        Adıyaman\n",
            "2  Afyonkarahisar\n",
            "3            Ağrı\n",
            "4         Aksaray\n"
          ]
        }
      ]
    },
    {
      "cell_type": "code",
      "source": [
        "# Process the dataset. Make it into a list\n",
        "tr_cities = dft['İl'].dropna().str.lower().tolist()\n",
        "\n",
        "# Preview the first few elements\n",
        "print(tr_cities[:10])"
      ],
      "metadata": {
        "colab": {
          "base_uri": "https://localhost:8080/"
        },
        "id": "iW8NsLO5osoA",
        "outputId": "f4dd7a2f-2011-42a9-ea61-e9699891b6b3"
      },
      "execution_count": 20,
      "outputs": [
        {
          "output_type": "stream",
          "name": "stdout",
          "text": [
            "['adana', 'adıyaman', 'afyonkarahisar', 'ağrı', 'aksaray', 'amasya', 'ankara', 'antalya', 'ardahan', 'artvin']\n"
          ]
        }
      ]
    },
    {
      "cell_type": "code",
      "source": [
        "len(tr_cities)"
      ],
      "metadata": {
        "colab": {
          "base_uri": "https://localhost:8080/"
        },
        "id": "gl_YLM4cotqm",
        "outputId": "d87d8d47-5a8e-40ef-9f46-8c4da92b0214"
      },
      "execution_count": 21,
      "outputs": [
        {
          "output_type": "execute_result",
          "data": {
            "text/plain": [
              "81"
            ]
          },
          "metadata": {},
          "execution_count": 21
        }
      ]
    },
    {
      "cell_type": "code",
      "source": [
        "# Process the dataset. Make it into a list\n",
        "tr_cities = dft['İl'].dropna().str.lower().tolist()\n",
        "\n",
        "# Preview the first few elements\n",
        "print(tr_cities[:10])"
      ],
      "metadata": {
        "colab": {
          "base_uri": "https://localhost:8080/"
        },
        "id": "pWKlnAckxR2_",
        "outputId": "71e27e4c-4d5f-4a2d-9006-a3386315ff4b"
      },
      "execution_count": 22,
      "outputs": [
        {
          "output_type": "stream",
          "name": "stdout",
          "text": [
            "['adana', 'adıyaman', 'afyonkarahisar', 'ağrı', 'aksaray', 'amasya', 'ankara', 'antalya', 'ardahan', 'artvin']\n"
          ]
        }
      ]
    },
    {
      "cell_type": "code",
      "source": [
        "# Build the vocabulary of characters and mappings to/from integers\n",
        "chars = sorted(list(set(''.join(tr_cities))))\n",
        "stoi = {s:i+1 for i,s in enumerate(chars)}\n",
        "stoi['.'] = 0\n",
        "itos = {i:s for s,i in stoi.items()}\n",
        "print(itos)"
      ],
      "metadata": {
        "colab": {
          "base_uri": "https://localhost:8080/"
        },
        "outputId": "fb99f8de-08ae-4728-dbf5-2d31d772aac3",
        "id": "OWm3Ernpxe6D"
      },
      "execution_count": 23,
      "outputs": [
        {
          "output_type": "stream",
          "name": "stdout",
          "text": [
            "{1: 'a', 2: 'b', 3: 'c', 4: 'd', 5: 'e', 6: 'f', 7: 'g', 8: 'h', 9: 'i', 10: 'k', 11: 'l', 12: 'm', 13: 'n', 14: 'o', 15: 'p', 16: 'r', 17: 's', 18: 't', 19: 'u', 20: 'v', 21: 'y', 22: 'z', 23: 'â', 24: 'ç', 25: 'ö', 26: 'ü', 27: 'ğ', 28: 'ı', 29: 'ş', 30: '̇', 0: '.'}\n"
          ]
        }
      ]
    },
    {
      "cell_type": "code",
      "source": [
        "# Build the new dataset\n",
        "block_size = 3 # context length: how many characters do we take to predict the next one.\n",
        "\n",
        "def build_dataset(tr_cities):\n",
        "  X, Y = [], []\n",
        "  for w in tr_cities:\n",
        "\n",
        "    #print(w)\n",
        "    context = [0] * block_size\n",
        "    for ch in w + '.':\n",
        "      ix = stoi[ch]\n",
        "      X.append(context)\n",
        "      Y.append(ix)\n",
        "      #print(''.join(itos[i] for i in context), '--->', itos[ix])\n",
        "      context = context[1:] + [ix] # crop and append\n",
        "\n",
        "  X = torch.tensor(X)\n",
        "  Y = torch.tensor(Y)\n",
        "  print(X.shape, Y.shape)\n",
        "  return X, Y\n",
        "\n",
        "import random\n",
        "random.seed(42)\n",
        "random.shuffle(tr_cities)\n",
        "n1 = int(0.8*len(tr_cities))\n",
        "n2 = int(0.9*len(tr_cities))\n",
        "\n",
        "Xtr, Ytr = build_dataset(tr_cities[:n1])\n",
        "Xdev, Ydev = build_dataset(tr_cities[n1:n2])\n",
        "Xte, Yte = build_dataset(tr_cities[n2:])"
      ],
      "metadata": {
        "colab": {
          "base_uri": "https://localhost:8080/"
        },
        "outputId": "79e3730b-7864-4500-c5ea-d06e77e4db97",
        "id": "EIXySDG8ywRH"
      },
      "execution_count": 24,
      "outputs": [
        {
          "output_type": "stream",
          "name": "stdout",
          "text": [
            "torch.Size([492, 3]) torch.Size([492])\n",
            "torch.Size([59, 3]) torch.Size([59])\n",
            "torch.Size([68, 3]) torch.Size([68])\n"
          ]
        }
      ]
    },
    {
      "cell_type": "code",
      "source": [
        "g = torch.Generator().manual_seed(2147483647) # for reproducibility\n",
        "C = torch.randn((33, 10), generator=g)\n",
        "W1 = torch.randn((30, 200), generator=g)\n",
        "b1 = torch.randn(200, generator=g)\n",
        "W2 = torch.randn((200, 33), generator=g)\n",
        "b2 = torch.randn(33, generator=g)\n",
        "parameters = [C, W1, b1, W2, b2]"
      ],
      "metadata": {
        "id": "Rn2NMbTfzA-v"
      },
      "execution_count": 25,
      "outputs": []
    },
    {
      "cell_type": "code",
      "source": [
        "sum(p.nelement() for p in parameters) # number of parameters in total"
      ],
      "metadata": {
        "colab": {
          "base_uri": "https://localhost:8080/"
        },
        "id": "AwSwFb_YzP0i",
        "outputId": "13405844-6b07-4a99-d32c-7f16774612b7"
      },
      "execution_count": 26,
      "outputs": [
        {
          "output_type": "execute_result",
          "data": {
            "text/plain": [
              "13163"
            ]
          },
          "metadata": {},
          "execution_count": 26
        }
      ]
    },
    {
      "cell_type": "code",
      "source": [
        "for p in parameters:\n",
        "  p.requires_grad = True"
      ],
      "metadata": {
        "id": "NoTlMX8yzWbv"
      },
      "execution_count": 27,
      "outputs": []
    },
    {
      "cell_type": "code",
      "source": [
        "lre = torch.linspace(-3, 0, 1000)\n",
        "lrs = 10**lre"
      ],
      "metadata": {
        "id": "8Df0pnIAzdGG"
      },
      "execution_count": 28,
      "outputs": []
    },
    {
      "cell_type": "code",
      "source": [
        "lri = []\n",
        "lossi = []\n",
        "stepi = []"
      ],
      "metadata": {
        "id": "VjNR-uIdzgo9"
      },
      "execution_count": 29,
      "outputs": []
    },
    {
      "cell_type": "code",
      "source": [
        "#Training the model\n",
        "\n",
        "num_iterations = 50000\n",
        "batch_size = 32\n",
        "\n",
        "for i in range(num_iterations):\n",
        "\n",
        "  # minibatch construct\n",
        "  ix = torch.randint(0, Xtr.shape[0], (batch_size,))\n",
        "\n",
        "  # forward pass\n",
        "  emb = C[Xtr[ix]] # (batch_size, 3, 10)\n",
        "  h = torch.tanh(emb.view(-1, 30) @ W1 + b1) # (batch_size, hidden_units)\n",
        "  logits = h @ W2 + b2 # (batch_size, 27)\n",
        "  loss = F.cross_entropy(logits, Ytr[ix])\n",
        "\n",
        "  # backward pass\n",
        "  for p in parameters:\n",
        "    p.grad = None\n",
        "  loss.backward()\n",
        "\n",
        "  # learning rate schedule\n",
        "  if i < 10000:\n",
        "    lr = 0.005\n",
        "  elif i < 30000:\n",
        "    lr = 0.001\n",
        "  else:\n",
        "    lr = 0.0001\n",
        "\n",
        "  # parameter update\n",
        "  for p in parameters:\n",
        "    p.data += -lr * p.grad\n",
        "\n",
        "  # track stats\n",
        "  stepi.append(i)\n",
        "  lossi.append(loss.log10().item())\n",
        "\n",
        "  if i % 5000 == 0:  # Print progress every 5000 steps\n",
        "    print(f\"Iteration {i}, Loss: {loss.item():.4f}\")\n"
      ],
      "metadata": {
        "colab": {
          "base_uri": "https://localhost:8080/"
        },
        "id": "9wjvh583zhsR",
        "outputId": "643b9985-550b-4cba-8ece-9f576b31bfd4"
      },
      "execution_count": 30,
      "outputs": [
        {
          "output_type": "stream",
          "name": "stdout",
          "text": [
            "Iteration 0, Loss: 25.1707\n",
            "Iteration 5000, Loss: 0.7371\n",
            "Iteration 10000, Loss: 0.4562\n",
            "Iteration 15000, Loss: 0.6830\n",
            "Iteration 20000, Loss: 0.8081\n",
            "Iteration 25000, Loss: 0.6760\n",
            "Iteration 30000, Loss: 0.8540\n",
            "Iteration 35000, Loss: 0.6462\n",
            "Iteration 40000, Loss: 0.8370\n",
            "Iteration 45000, Loss: 0.6183\n"
          ]
        }
      ]
    },
    {
      "cell_type": "code",
      "source": [
        "plt.plot(stepi, lossi)"
      ],
      "metadata": {
        "colab": {
          "base_uri": "https://localhost:8080/",
          "height": 447
        },
        "id": "YgvihYb0z2qN",
        "outputId": "bb3b4698-dcc9-4436-cf9d-0188df8ca9f9"
      },
      "execution_count": 31,
      "outputs": [
        {
          "output_type": "execute_result",
          "data": {
            "text/plain": [
              "[<matplotlib.lines.Line2D at 0x7bc36d65da90>]"
            ]
          },
          "metadata": {},
          "execution_count": 31
        },
        {
          "output_type": "display_data",
          "data": {
            "text/plain": [
              "<Figure size 640x480 with 1 Axes>"
            ],
            "image/png": "[encoded data removed]"
          },
          "metadata": {}
        }
      ]
    },
    {
      "cell_type": "code",
      "source": [
        "# training loss\n",
        "emb = C[Xtr] # (32, 3, 2)\n",
        "h = torch.tanh(emb.view(-1, 30) @ W1 + b1) # (32, 100)\n",
        "logits = h @ W2 + b2 # (32, 27)\n",
        "loss = F.cross_entropy(logits, Ytr)\n",
        "loss"
      ],
      "metadata": {
        "colab": {
          "base_uri": "https://localhost:8080/"
        },
        "id": "MD-E8SzJz5xt",
        "outputId": "cf1199e3-f682-441c-9957-83fa09a3f07c"
      },
      "execution_count": 32,
      "outputs": [
        {
          "output_type": "execute_result",
          "data": {
            "text/plain": [
              "tensor(0.6509, grad_fn=<NllLossBackward0>)"
            ]
          },
          "metadata": {},
          "execution_count": 32
        }
      ]
    },
    {
      "cell_type": "code",
      "source": [
        "# validation loss\n",
        "emb = C[Xdev] # (32, 3, 2)\n",
        "h = torch.tanh(emb.view(-1, 30) @ W1 + b1) # (32, 100)\n",
        "logits = h @ W2 + b2 # (32, 27)\n",
        "loss = F.cross_entropy(logits, Ydev)\n",
        "loss"
      ],
      "metadata": {
        "colab": {
          "base_uri": "https://localhost:8080/"
        },
        "id": "_0oF5q_5z8g1",
        "outputId": "2e4e2f52-67ae-42a3-9a82-014be7b1f415"
      },
      "execution_count": 33,
      "outputs": [
        {
          "output_type": "execute_result",
          "data": {
            "text/plain": [
              "tensor(12.3787, grad_fn=<NllLossBackward0>)"
            ]
          },
          "metadata": {},
          "execution_count": 33
        }
      ]
    },
    {
      "cell_type": "code",
      "source": [
        "# test loss\n",
        "emb = C[Xte] # (32, 3, 2)\n",
        "h = torch.tanh(emb.view(-1, 30) @ W1 + b1) # (32, 100)\n",
        "logits = h @ W2 + b2 # (32, 27)\n",
        "loss = F.cross_entropy(logits, Yte)\n",
        "loss"
      ],
      "metadata": {
        "colab": {
          "base_uri": "https://localhost:8080/"
        },
        "id": "QPanrWy1z-hC",
        "outputId": "c0788eac-2ee5-4b8d-93b9-3eb2a2edb5af"
      },
      "execution_count": 34,
      "outputs": [
        {
          "output_type": "execute_result",
          "data": {
            "text/plain": [
              "tensor(10.3295, grad_fn=<NllLossBackward0>)"
            ]
          },
          "metadata": {},
          "execution_count": 34
        }
      ]
    },
    {
      "cell_type": "code",
      "source": [
        "# visualize dimensions 0 and 1 of the embedding matrix C for all characters\n",
        "plt.figure(figsize=(8,8))\n",
        "plt.scatter(C[:,0].data, C[:,1].data, s=200)\n",
        "for i in range(min(C.shape[0], len(itos))):\n",
        "    plt.text(C[i, 0].item(), C[i, 1].item(), itos[i], ha=\"center\", va=\"center\", color='white')\n",
        "plt.grid('minor')"
      ],
      "metadata": {
        "colab": {
          "base_uri": "https://localhost:8080/",
          "height": 676
        },
        "id": "g8cCnADuz_Ar",
        "outputId": "335bdcd0-c840-4c3d-95be-fb3420d8960f"
      },
      "execution_count": 37,
      "outputs": [
        {
          "output_type": "display_data",
          "data": {
            "text/plain": [
              "<Figure size 800x800 with 1 Axes>"
            ],
            "image/png": "[encoded data removed]"
          },
          "metadata": {}
        }
      ]
    },
    {
      "cell_type": "code",
      "source": [
        "# sample from the model\n",
        "g = torch.Generator().manual_seed(2147483647 + 10)\n",
        "\n",
        "for _ in range(20):\n",
        "\n",
        "    out = []\n",
        "    context = [0] * block_size # initialize with all ...\n",
        "    while True:\n",
        "      emb = C[torch.tensor([context])] # (1,block_size,d)\n",
        "      h = torch.tanh(emb.view(1, -1) @ W1 + b1)\n",
        "      logits = h @ W2 + b2\n",
        "      probs = F.softmax(logits, dim=1)\n",
        "      ix = torch.multinomial(probs, num_samples=1, generator=g).item()\n",
        "      context = context[1:] + [ix]\n",
        "      out.append(ix)\n",
        "      if ix == 0:\n",
        "        break\n",
        "\n",
        "    print(''.join(itos[i] for i in out))"
      ],
      "metadata": {
        "colab": {
          "base_uri": "https://localhost:8080/"
        },
        "id": "K5XrAtfH0Jfz",
        "outputId": "51944598-1913-48c4-c38b-8449ef7b99e3"
      },
      "execution_count": 38,
      "outputs": [
        {
          "output_type": "stream",
          "name": "stdout",
          "text": [
            "bingöl.\n",
            "çanakkale.\n",
            "diyarbakırıkkale.\n",
            "trabük.\n",
            "kara.\n",
            "erzurum.\n",
            "sar.\n",
            "karaş.\n",
            "zonguldak.\n",
            "van.\n",
            "sivas.\n",
            "ordur.\n",
            "zon.\n",
            "hatay.\n",
            "ankara.\n",
            "kırklareli.\n",
            "aydın.\n",
            "giresun.\n",
            "kastamonu.\n",
            "adıyamasya.\n"
          ]
        }
      ]
    }
  ]
}