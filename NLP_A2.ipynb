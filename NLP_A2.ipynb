{
  "nbformat": 4,
  "nbformat_minor": 0,
  "metadata": {
    "colab": {
      "provenance": [],
      "include_colab_link": true
    },
    "kernelspec": {
      "name": "python3",
      "display_name": "Python 3"
    },
    "language_info": {
      "name": "python"
    }
  },
  "cells": [
    {
      "cell_type": "markdown",
      "metadata": {
        "id": "view-in-github",
        "colab_type": "text"
      },
      "source": [
        "<a href=\"https://colab.research.google.com/github/nihalaltay/turkish-spanish-city-name-generator-LM/blob/main/NLP_A2.ipynb\" target=\"_parent\"><img src=\"https://colab.research.google.com/assets/colab-badge.svg\" alt=\"Open In Colab\"/></a>"
      ]
    },
    {
      "cell_type": "code",
      "execution_count": 484,
      "metadata": {
        "id": "vowXRstocd8F"
      },
      "outputs": [],
      "source": [
        "import pandas as pd\n",
        "import torch\n",
        "import torch.nn.functional as F\n",
        "import matplotlib.pyplot as plt # for making figures\n",
        "%matplotlib inline"
      ]
    },
    {
      "cell_type": "code",
      "source": [
        "#---*-**-*--- Spanish City Name Generator Model ---*-**-*---#\n",
        "\n",
        "# Form the dataset: Get Spanish city names\n",
        "\n",
        "# Direct download link\n",
        "download_url = 'https://drive.google.com/uc?export=download&id=111bav2EnTulNFfWTskyGbUzkAUwkbW9g'\n",
        "\n",
        "# Load the CSV file (dfs: dataframe spain)\n",
        "dfs = pd.read_csv(download_url)\n",
        "\n",
        "# Preview the first few rows\n",
        "# print(dfs.head())\n",
        "\n",
        "# Check the column names to identify which one contains the city names\n",
        "print(\"\\nColumn Names:\")\n",
        "print(dfs.columns)\n",
        "\n",
        "# Keep only the city names column and drop others\n",
        "dfs_clean = dfs[['name']]\n",
        "\n",
        "# Remove duplicates and any leading/trailing spaces\n",
        "dfs_clean['name'] = dfs_clean['name'].str.strip()\n",
        "dfs_clean = dfs_clean.drop_duplicates()\n",
        "\n",
        "# Display cleaned data\n",
        "print(\"\\nCleaned DataFrame:\")\n",
        "print(dfs_clean.head())"
      ],
      "metadata": {
        "colab": {
          "base_uri": "https://localhost:8080/"
        },
        "id": "3IX5t_E1y0CO",
        "outputId": "89921167-a30c-46e7-a573-e4534977334b"
      },
      "execution_count": 485,
      "outputs": [
        {
          "output_type": "stream",
          "name": "stdout",
          "text": [
            "\n",
            "Column Names:\n",
            "Index(['code', 'postal_code', 'name', 'phone_code', 'iso2'], dtype='object')\n",
            "\n",
            "Cleaned DataFrame:\n",
            "       name\n",
            "0     Álava\n",
            "1  Albacete\n",
            "2   Alacant\n",
            "3   Almería\n",
            "4     Ávila\n"
          ]
        },
        {
          "output_type": "stream",
          "name": "stderr",
          "text": [
            "<ipython-input-485-484e2cd329ec>:22: SettingWithCopyWarning: \n",
            "A value is trying to be set on a copy of a slice from a DataFrame.\n",
            "Try using .loc[row_indexer,col_indexer] = value instead\n",
            "\n",
            "See the caveats in the documentation: https://pandas.pydata.org/pandas-docs/stable/user_guide/indexing.html#returning-a-view-versus-a-copy\n",
            "  dfs_clean['name'] = dfs_clean['name'].str.strip()\n"
          ]
        }
      ]
    },
    {
      "cell_type": "code",
      "source": [
        "# Process the dataset. Make it into a list. Remove dots too, because they conflict with dots marking the end of teh words, hindering the training.\n",
        "es_cities = dfs['name'].dropna().str.lower().str.replace('.', '', regex=False).tolist()\n",
        "\n",
        "# Preview the first few elements\n",
        "print(es_cities[:10])"
      ],
      "metadata": {
        "colab": {
          "base_uri": "https://localhost:8080/"
        },
        "id": "uH2MGP4FcidR",
        "outputId": "26f0142b-b7fb-4546-b326-2d2c2494cd0a"
      },
      "execution_count": 486,
      "outputs": [
        {
          "output_type": "stream",
          "name": "stdout",
          "text": [
            "['álava', 'albacete', 'alacant', 'almería', 'ávila', 'badajoz', 'illes balears', 'barcelona', 'burgos', 'cáceres']\n"
          ]
        }
      ]
    },
    {
      "cell_type": "code",
      "source": [
        "len(es_cities)"
      ],
      "metadata": {
        "colab": {
          "base_uri": "https://localhost:8080/"
        },
        "id": "FbakoEqAcvnF",
        "outputId": "1805c014-9508-42df-b585-66e66c6d7d36"
      },
      "execution_count": 487,
      "outputs": [
        {
          "output_type": "execute_result",
          "data": {
            "text/plain": [
              "52"
            ]
          },
          "metadata": {},
          "execution_count": 487
        }
      ]
    },
    {
      "cell_type": "code",
      "source": [
        "# Build the vocabulary of characters and mappings to/from integers\n",
        "chars = sorted(list(set(''.join(es_cities))))\n",
        "stoi = {s:i+1 for i,s in enumerate(chars)}\n",
        "stoi['.'] = 0\n",
        "itos = {i:s for s,i in stoi.items()}\n",
        "print(itos)"
      ],
      "metadata": {
        "colab": {
          "base_uri": "https://localhost:8080/"
        },
        "id": "EYnXhmWVcx-l",
        "outputId": "9c262077-6893-4cba-f83a-361124adfce6"
      },
      "execution_count": 488,
      "outputs": [
        {
          "output_type": "stream",
          "name": "stdout",
          "text": [
            "{1: ' ', 2: 'a', 3: 'b', 4: 'c', 5: 'd', 6: 'e', 7: 'f', 8: 'g', 9: 'h', 10: 'i', 11: 'j', 12: 'k', 13: 'l', 14: 'm', 15: 'n', 16: 'o', 17: 'p', 18: 'r', 19: 's', 20: 't', 21: 'u', 22: 'v', 23: 'z', 24: 'á', 25: 'é', 26: 'í', 27: 'ñ', 28: 'ó', 0: '.'}\n"
          ]
        }
      ]
    },
    {
      "cell_type": "code",
      "source": [
        "# Build the new dataset\n",
        "block_size = 3 # context length: how many characters do we take to predict the next one.\n",
        "\n",
        "def build_dataset(es_cities):\n",
        "  X, Y = [], []\n",
        "  for w in es_cities:\n",
        "\n",
        "    #print(w)\n",
        "    context = [0] * block_size\n",
        "    for ch in w + '.':\n",
        "      ix = stoi[ch]\n",
        "      X.append(context)\n",
        "      Y.append(ix)\n",
        "      #print(''.join(itos[i] for i in context), '--->', itos[ix])\n",
        "      context = context[1:] + [ix] # crop and append\n",
        "\n",
        "  X = torch.tensor(X)\n",
        "  Y = torch.tensor(Y)\n",
        "  print(X.shape, Y.shape)\n",
        "  return X, Y\n",
        "\n",
        "import random\n",
        "random.seed(42)\n",
        "random.shuffle(es_cities)\n",
        "n1 = int(0.8*len(es_cities))\n",
        "n2 = int(0.9*len(es_cities))\n",
        "\n",
        "Xtr, Ytr = build_dataset(es_cities[:n1])\n",
        "Xdev, Ydev = build_dataset(es_cities[n1:n2])\n",
        "Xte, Yte = build_dataset(es_cities[n2:])"
      ],
      "metadata": {
        "colab": {
          "base_uri": "https://localhost:8080/"
        },
        "id": "MB5XgJxdczFi",
        "outputId": "73727d92-03a9-4fd8-974e-1a15486275e0"
      },
      "execution_count": 489,
      "outputs": [
        {
          "output_type": "stream",
          "name": "stdout",
          "text": [
            "torch.Size([340, 3]) torch.Size([340])\n",
            "torch.Size([49, 3]) torch.Size([49])\n",
            "torch.Size([50, 3]) torch.Size([50])\n"
          ]
        }
      ]
    },
    {
      "cell_type": "code",
      "source": [
        "g = torch.Generator().manual_seed(2147483647) # for reproducibility\n",
        "C = torch.randn((29, 10), generator=g)\n",
        "W1 = torch.randn((30, 200), generator=g)\n",
        "b1 = torch.randn(200, generator=g)\n",
        "W2 = torch.randn((200, 29), generator=g)\n",
        "b2 = torch.randn(29, generator=g)\n",
        "parameters = [C, W1, b1, W2, b2]"
      ],
      "metadata": {
        "id": "EAA0_oigc13X"
      },
      "execution_count": 490,
      "outputs": []
    },
    {
      "cell_type": "code",
      "source": [
        "sum(p.nelement() for p in parameters) # number of parameters in total"
      ],
      "metadata": {
        "colab": {
          "base_uri": "https://localhost:8080/"
        },
        "id": "_HcVef6-c5S4",
        "outputId": "aded0cc8-9582-401e-d8e7-6c5b8c327c6b"
      },
      "execution_count": 491,
      "outputs": [
        {
          "output_type": "execute_result",
          "data": {
            "text/plain": [
              "12319"
            ]
          },
          "metadata": {},
          "execution_count": 491
        }
      ]
    },
    {
      "cell_type": "code",
      "source": [
        "for p in parameters:\n",
        "  p.requires_grad = True"
      ],
      "metadata": {
        "id": "coNBea1sc6tm"
      },
      "execution_count": 492,
      "outputs": []
    },
    {
      "cell_type": "code",
      "source": [
        "lre = torch.linspace(-3, 0, 1000)\n",
        "lrs = 10**lre"
      ],
      "metadata": {
        "id": "nFWpAj_9c9Yr"
      },
      "execution_count": 493,
      "outputs": []
    },
    {
      "cell_type": "code",
      "source": [
        "lri = []\n",
        "lossi = []\n",
        "stepi = []"
      ],
      "metadata": {
        "id": "t2huuyTudBlF"
      },
      "execution_count": 494,
      "outputs": []
    },
    {
      "cell_type": "code",
      "source": [
        "#Training the model\n",
        "\n",
        "num_iterations = 50000\n",
        "batch_size = 32\n",
        "\n",
        "for i in range(num_iterations):\n",
        "\n",
        "  # minibatch construct\n",
        "  ix = torch.randint(0, Xtr.shape[0], (batch_size,))\n",
        "\n",
        "  # forward pass\n",
        "  emb = C[Xtr[ix]] # (batch_size, 3, 10)\n",
        "  h = torch.tanh(emb.view(-1, 30) @ W1 + b1) # (batch_size, hidden_units)\n",
        "  logits = h @ W2 + b2 # (batch_size, 27)\n",
        "  loss = F.cross_entropy(logits, Ytr[ix])\n",
        "\n",
        "  # backward pass\n",
        "  for p in parameters:\n",
        "    p.grad = None\n",
        "  loss.backward()\n",
        "\n",
        "  # learning rate schedule\n",
        "  if i < 10000:\n",
        "    lr = 0.005\n",
        "  elif i < 30000:\n",
        "    lr = 0.001\n",
        "  else:\n",
        "    lr = 0.0001\n",
        "\n",
        "  # parameter update\n",
        "  for p in parameters:\n",
        "    p.data += -lr * p.grad\n",
        "\n",
        "  # track stats\n",
        "  stepi.append(i)\n",
        "  lossi.append(loss.log10().item())\n",
        "\n",
        "  if i % 5000 == 0:  # Print progress every 5000 steps\n",
        "    print(f\"Iteration {i}, Loss: {loss.item():.4f}\")"
      ],
      "metadata": {
        "id": "m_fkBmXn4oEy",
        "colab": {
          "base_uri": "https://localhost:8080/"
        },
        "outputId": "d40e2c7d-730d-46c3-cf6c-a328cef00c66"
      },
      "execution_count": 495,
      "outputs": [
        {
          "output_type": "stream",
          "name": "stdout",
          "text": [
            "Iteration 0, Loss: 24.7639\n",
            "Iteration 5000, Loss: 0.3699\n",
            "Iteration 10000, Loss: 0.5439\n",
            "Iteration 15000, Loss: 0.4841\n",
            "Iteration 20000, Loss: 0.1987\n",
            "Iteration 25000, Loss: 0.5899\n",
            "Iteration 30000, Loss: 0.4805\n",
            "Iteration 35000, Loss: 0.6783\n",
            "Iteration 40000, Loss: 0.4850\n",
            "Iteration 45000, Loss: 0.7070\n"
          ]
        }
      ]
    },
    {
      "cell_type": "code",
      "source": [
        "plt.plot(stepi, lossi)"
      ],
      "metadata": {
        "colab": {
          "base_uri": "https://localhost:8080/",
          "height": 447
        },
        "id": "ZBAYXZ_rdGIG",
        "outputId": "bbf804b3-a405-4969-8b5c-e03a4e3b24b7"
      },
      "execution_count": 496,
      "outputs": [
        {
          "output_type": "execute_result",
          "data": {
            "text/plain": [
              "[<matplotlib.lines.Line2D at 0x7e89f4689f50>]"
            ]
          },
          "metadata": {},
          "execution_count": 496
        },
        {
          "output_type": "display_data",
          "data": {
            "text/plain": [
              "<Figure size 640x480 with 1 Axes>"
            ],
            "image/png": "[encoded data removed]"
          },
          "metadata": {}
        }
      ]
    },
    {
      "cell_type": "code",
      "source": [
        "# training loss\n",
        "emb = C[Xtr] # (32, 3, 2)\n",
        "h = torch.tanh(emb.view(-1, 30) @ W1 + b1) # (32, 100)\n",
        "logits = h @ W2 + b2 # (32, 27)\n",
        "loss = F.cross_entropy(logits, Ytr)\n",
        "loss"
      ],
      "metadata": {
        "colab": {
          "base_uri": "https://localhost:8080/"
        },
        "id": "ZlhYinNgdIVF",
        "outputId": "a1e51ed2-042a-472b-e128-961d3c962894"
      },
      "execution_count": 497,
      "outputs": [
        {
          "output_type": "execute_result",
          "data": {
            "text/plain": [
              "tensor(0.5052, grad_fn=<NllLossBackward0>)"
            ]
          },
          "metadata": {},
          "execution_count": 497
        }
      ]
    },
    {
      "cell_type": "code",
      "source": [
        "# validation loss\n",
        "emb = C[Xdev] # (32, 3, 2)\n",
        "h = torch.tanh(emb.view(-1, 30) @ W1 + b1) # (32, 100)\n",
        "logits = h @ W2 + b2 # (32, 27)\n",
        "loss = F.cross_entropy(logits, Ydev)\n",
        "loss"
      ],
      "metadata": {
        "colab": {
          "base_uri": "https://localhost:8080/"
        },
        "id": "cJH3DDu4dLTM",
        "outputId": "cbc900c6-23b8-4e12-c9b9-82e16393c4ac"
      },
      "execution_count": 498,
      "outputs": [
        {
          "output_type": "execute_result",
          "data": {
            "text/plain": [
              "tensor(14.9042, grad_fn=<NllLossBackward0>)"
            ]
          },
          "metadata": {},
          "execution_count": 498
        }
      ]
    },
    {
      "cell_type": "code",
      "source": [
        "# test loss\n",
        "emb = C[Xte] # (32, 3, 2)\n",
        "h = torch.tanh(emb.view(-1, 30) @ W1 + b1) # (32, 100)\n",
        "logits = h @ W2 + b2 # (32, 27)\n",
        "loss = F.cross_entropy(logits, Yte)\n",
        "loss"
      ],
      "metadata": {
        "colab": {
          "base_uri": "https://localhost:8080/"
        },
        "id": "DwOgCg1vdNhe",
        "outputId": "c7f2c60c-2d9a-4736-e41b-237479fda218"
      },
      "execution_count": 499,
      "outputs": [
        {
          "output_type": "execute_result",
          "data": {
            "text/plain": [
              "tensor(11.2620, grad_fn=<NllLossBackward0>)"
            ]
          },
          "metadata": {},
          "execution_count": 499
        }
      ]
    },
    {
      "cell_type": "code",
      "source": [
        "# visualize dimensions 0 and 1 of the embedding matrix C for all characters\n",
        "plt.figure(figsize=(8,8))\n",
        "plt.scatter(C[:,0].data, C[:,1].data, s=200)\n",
        "for i in range(C.shape[0]):\n",
        "    plt.text(C[i,0].item(), C[i,1].item(), itos[i], ha=\"center\", va=\"center\", color='white')\n",
        "plt.grid('minor')"
      ],
      "metadata": {
        "colab": {
          "base_uri": "https://localhost:8080/",
          "height": 676
        },
        "id": "CCWLYP9GdPP4",
        "outputId": "a2e09571-92eb-4033-f4c4-fb0c23072241"
      },
      "execution_count": 500,
      "outputs": [
        {
          "output_type": "display_data",
          "data": {
            "text/plain": [
              "<Figure size 800x800 with 1 Axes>"
            ],
            "image/png": "[encoded data removed]"
          },
          "metadata": {}
        }
      ]
    },
    {
      "cell_type": "code",
      "source": [
        "# sample from the model\n",
        "g = torch.Generator().manual_seed(2147483647 + 10)\n",
        "\n",
        "for _ in range(20):\n",
        "\n",
        "    out = []\n",
        "    context = [0] * block_size # initialize with all ...\n",
        "    while True:\n",
        "      emb = C[torch.tensor([context])] # (1,block_size,d)\n",
        "      h = torch.tanh(emb.view(1, -1) @ W1 + b1)\n",
        "      logits = h @ W2 + b2\n",
        "      probs = F.softmax(logits, dim=1)\n",
        "      ix = torch.multinomial(probs, num_samples=1, generator=g).item()\n",
        "      context = context[1:] + [ix]\n",
        "      out.append(ix)\n",
        "      if ix == 0:\n",
        "        break\n",
        "\n",
        "    print(''.join(itos[i] for i in out))"
      ],
      "metadata": {
        "colab": {
          "base_uri": "https://localhost:8080/"
        },
        "id": "TQUMmgRrdRIA",
        "outputId": "46043573-1da3-4294-cfd5-b69f927fe30f"
      },
      "execution_count": 501,
      "outputs": [
        {
          "output_type": "stream",
          "name": "stdout",
          "text": [
            "la rioja.\n",
            "casturia.\n",
            "gipuzkoa.\n",
            "la rioja.\n",
            "ceuta.\n",
            "girona.\n",
            "huelva.\n",
            "ourense.\n",
            "valladolid.\n",
            "alamanca.\n",
            "murcia.\n",
            "ceuta.\n",
            "huesca.\n",
            "ciudad real.\n",
            "zara.\n",
            "alamanca.\n",
            "gipuzkoa.\n",
            "guadalacantabrias.\n",
            "segovia.\n",
            "gipuzkoa.\n"
          ]
        }
      ]
    },
    {
      "cell_type": "code",
      "source": [
        "#---*-**-*--- Turkish City Name Generator Model ---*-**-*---#\n",
        "\n",
        "# Form the dataset: Get Turkish city names\n",
        "\n",
        "# Direct download link\n",
        "download_url = 'https://docs.google.com/spreadsheets/d/17P_60-tt8ulF3yVlB3-kJHn1Z7Geqe5q/export?format=csv'\n",
        "\n",
        "# Load the CSV file (dft: dataframe türkiye)\n",
        "dft = pd.read_csv(download_url)\n",
        "\n",
        "# Preview the first few rows\n",
        "# print(dft.head())\n",
        "\n",
        "# Check the column names to identify which one contains the city names\n",
        "print(\"\\nColumn Names:\")\n",
        "print(dft.columns)\n",
        "\n",
        "# Keep only the city names column and drop others\n",
        "dft_clean = dft[['İl']]\n",
        "\n",
        "# Remove duplicates and any leading/trailing spaces\n",
        "dft_clean['İl'] = dft_clean['İl'].str.strip()\n",
        "dft_clean = dft_clean.drop_duplicates()\n",
        "\n",
        "# Display cleaned data\n",
        "print(\"\\nCleaned DataFrame:\")\n",
        "print(dft_clean.head())"
      ],
      "metadata": {
        "id": "iwENKZS7dT_5",
        "colab": {
          "base_uri": "https://localhost:8080/"
        },
        "outputId": "ab6465f4-9c12-4c4a-d738-8501f75017fe"
      },
      "execution_count": 502,
      "outputs": [
        {
          "output_type": "stream",
          "name": "stdout",
          "text": [
            "\n",
            "Column Names:\n",
            "Index(['İl'], dtype='object')\n",
            "\n",
            "Cleaned DataFrame:\n",
            "               İl\n",
            "0           Adana\n",
            "1        Adıyaman\n",
            "2  Afyonkarahisar\n",
            "3            Ağrı\n",
            "4         Aksaray\n"
          ]
        }
      ]
    },
    {
      "cell_type": "code",
      "source": [
        "# Process the dataset. Make it into a list\n",
        "tr_cities = dft['İl'].dropna().str.lower().tolist()\n",
        "\n",
        "# Preview the first few elements\n",
        "print(tr_cities[:10])"
      ],
      "metadata": {
        "colab": {
          "base_uri": "https://localhost:8080/"
        },
        "id": "iW8NsLO5osoA",
        "outputId": "411ada81-32a9-4c8b-9166-81854d6914aa"
      },
      "execution_count": 503,
      "outputs": [
        {
          "output_type": "stream",
          "name": "stdout",
          "text": [
            "['adana', 'adıyaman', 'afyonkarahisar', 'ağrı', 'aksaray', 'amasya', 'ankara', 'antalya', 'ardahan', 'artvin']\n"
          ]
        }
      ]
    },
    {
      "cell_type": "code",
      "source": [
        "len(tr_cities)"
      ],
      "metadata": {
        "colab": {
          "base_uri": "https://localhost:8080/"
        },
        "id": "gl_YLM4cotqm",
        "outputId": "7db45957-ad69-47b5-e755-44ef3e3c7084"
      },
      "execution_count": 504,
      "outputs": [
        {
          "output_type": "execute_result",
          "data": {
            "text/plain": [
              "81"
            ]
          },
          "metadata": {},
          "execution_count": 504
        }
      ]
    },
    {
      "cell_type": "code",
      "source": [
        "# Process the dataset. Make it into a list\n",
        "tr_cities = dft['İl'].dropna().str.lower().tolist()\n",
        "\n",
        "# Preview the first few elements\n",
        "print(tr_cities[:10])"
      ],
      "metadata": {
        "colab": {
          "base_uri": "https://localhost:8080/"
        },
        "id": "pWKlnAckxR2_",
        "outputId": "a8c603f7-f015-45fb-af9f-6bf0ce9cd4e6"
      },
      "execution_count": 505,
      "outputs": [
        {
          "output_type": "stream",
          "name": "stdout",
          "text": [
            "['adana', 'adıyaman', 'afyonkarahisar', 'ağrı', 'aksaray', 'amasya', 'ankara', 'antalya', 'ardahan', 'artvin']\n"
          ]
        }
      ]
    },
    {
      "cell_type": "code",
      "source": [
        "# Build the vocabulary of characters and mappings to/from integers\n",
        "chars = sorted(list(set(''.join(tr_cities))))\n",
        "stoi = {s:i+1 for i,s in enumerate(chars)}\n",
        "stoi['.'] = 0\n",
        "itos = {i:s for s,i in stoi.items()}\n",
        "print(itos)"
      ],
      "metadata": {
        "colab": {
          "base_uri": "https://localhost:8080/"
        },
        "outputId": "9c7fd2dc-344e-4162-cfdc-3d456d737db8",
        "id": "OWm3Ernpxe6D"
      },
      "execution_count": 506,
      "outputs": [
        {
          "output_type": "stream",
          "name": "stdout",
          "text": [
            "{1: 'a', 2: 'b', 3: 'c', 4: 'd', 5: 'e', 6: 'f', 7: 'g', 8: 'h', 9: 'i', 10: 'k', 11: 'l', 12: 'm', 13: 'n', 14: 'o', 15: 'p', 16: 'r', 17: 's', 18: 't', 19: 'u', 20: 'v', 21: 'y', 22: 'z', 23: 'â', 24: 'ç', 25: 'ö', 26: 'ü', 27: 'ğ', 28: 'ı', 29: 'ş', 30: '̇', 0: '.'}\n"
          ]
        }
      ]
    },
    {
      "cell_type": "code",
      "source": [
        "# Build the new dataset\n",
        "block_size = 3 # context length: how many characters do we take to predict the next one.\n",
        "\n",
        "def build_dataset(tr_cities):\n",
        "  X, Y = [], []\n",
        "  for w in tr_cities:\n",
        "\n",
        "    #print(w)\n",
        "    context = [0] * block_size\n",
        "    for ch in w + '.':\n",
        "      ix = stoi[ch]\n",
        "      X.append(context)\n",
        "      Y.append(ix)\n",
        "      #print(''.join(itos[i] for i in context), '--->', itos[ix])\n",
        "      context = context[1:] + [ix] # crop and append\n",
        "\n",
        "  X = torch.tensor(X)\n",
        "  Y = torch.tensor(Y)\n",
        "  print(X.shape, Y.shape)\n",
        "  return X, Y\n",
        "\n",
        "import random\n",
        "random.seed(42)\n",
        "random.shuffle(tr_cities)\n",
        "n1 = int(0.8*len(tr_cities))\n",
        "n2 = int(0.9*len(tr_cities))\n",
        "\n",
        "Xtr, Ytr = build_dataset(tr_cities[:n1])\n",
        "Xdev, Ydev = build_dataset(tr_cities[n1:n2])\n",
        "Xte, Yte = build_dataset(tr_cities[n2:])"
      ],
      "metadata": {
        "colab": {
          "base_uri": "https://localhost:8080/"
        },
        "outputId": "dd7fb93b-797a-4f67-f189-3e6e4d7dd57a",
        "id": "EIXySDG8ywRH"
      },
      "execution_count": 507,
      "outputs": [
        {
          "output_type": "stream",
          "name": "stdout",
          "text": [
            "torch.Size([492, 3]) torch.Size([492])\n",
            "torch.Size([59, 3]) torch.Size([59])\n",
            "torch.Size([68, 3]) torch.Size([68])\n"
          ]
        }
      ]
    },
    {
      "cell_type": "code",
      "source": [
        "g = torch.Generator().manual_seed(2147483647) # for reproducibility\n",
        "C = torch.randn((33, 10), generator=g)\n",
        "W1 = torch.randn((30, 200), generator=g)\n",
        "b1 = torch.randn(200, generator=g)\n",
        "W2 = torch.randn((200, 33), generator=g)\n",
        "b2 = torch.randn(33, generator=g)\n",
        "parameters = [C, W1, b1, W2, b2]"
      ],
      "metadata": {
        "id": "Rn2NMbTfzA-v"
      },
      "execution_count": 508,
      "outputs": []
    },
    {
      "cell_type": "code",
      "source": [
        "sum(p.nelement() for p in parameters) # number of parameters in total"
      ],
      "metadata": {
        "colab": {
          "base_uri": "https://localhost:8080/"
        },
        "id": "AwSwFb_YzP0i",
        "outputId": "c9120a5a-c23a-45b5-8017-1b399cb9b267"
      },
      "execution_count": 509,
      "outputs": [
        {
          "output_type": "execute_result",
          "data": {
            "text/plain": [
              "13163"
            ]
          },
          "metadata": {},
          "execution_count": 509
        }
      ]
    },
    {
      "cell_type": "code",
      "source": [
        "for p in parameters:\n",
        "  p.requires_grad = True"
      ],
      "metadata": {
        "id": "NoTlMX8yzWbv"
      },
      "execution_count": 510,
      "outputs": []
    },
    {
      "cell_type": "code",
      "source": [
        "lre = torch.linspace(-3, 0, 1000)\n",
        "lrs = 10**lre"
      ],
      "metadata": {
        "id": "8Df0pnIAzdGG"
      },
      "execution_count": 511,
      "outputs": []
    },
    {
      "cell_type": "code",
      "source": [
        "lri = []\n",
        "lossi = []\n",
        "stepi = []"
      ],
      "metadata": {
        "id": "VjNR-uIdzgo9"
      },
      "execution_count": 512,
      "outputs": []
    },
    {
      "cell_type": "code",
      "source": [
        "#Training the model\n",
        "\n",
        "num_iterations = 50000\n",
        "batch_size = 32\n",
        "\n",
        "for i in range(num_iterations):\n",
        "\n",
        "  # minibatch construct\n",
        "  ix = torch.randint(0, Xtr.shape[0], (batch_size,))\n",
        "\n",
        "  # forward pass\n",
        "  emb = C[Xtr[ix]] # (batch_size, 3, 10)\n",
        "  h = torch.tanh(emb.view(-1, 30) @ W1 + b1) # (batch_size, hidden_units)\n",
        "  logits = h @ W2 + b2 # (batch_size, 27)\n",
        "  loss = F.cross_entropy(logits, Ytr[ix])\n",
        "\n",
        "  # backward pass\n",
        "  for p in parameters:\n",
        "    p.grad = None\n",
        "  loss.backward()\n",
        "\n",
        "  # learning rate schedule\n",
        "  if i < 10000:\n",
        "    lr = 0.005\n",
        "  elif i < 30000:\n",
        "    lr = 0.001\n",
        "  else:\n",
        "    lr = 0.0001\n",
        "\n",
        "  # parameter update\n",
        "  for p in parameters:\n",
        "    p.data += -lr * p.grad\n",
        "\n",
        "  # track stats\n",
        "  stepi.append(i)\n",
        "  lossi.append(loss.log10().item())\n",
        "\n",
        "  if i % 5000 == 0:  # Print progress every 5000 steps\n",
        "    print(f\"Iteration {i}, Loss: {loss.item():.4f}\")\n"
      ],
      "metadata": {
        "colab": {
          "base_uri": "https://localhost:8080/"
        },
        "id": "9wjvh583zhsR",
        "outputId": "fa3ecd70-da3b-4fc6-da12-0ab681b9d619"
      },
      "execution_count": 513,
      "outputs": [
        {
          "output_type": "stream",
          "name": "stdout",
          "text": [
            "Iteration 0, Loss: 25.9186\n",
            "Iteration 5000, Loss: 0.8295\n",
            "Iteration 10000, Loss: 0.9701\n",
            "Iteration 15000, Loss: 0.8493\n",
            "Iteration 20000, Loss: 0.5779\n",
            "Iteration 25000, Loss: 0.9007\n",
            "Iteration 30000, Loss: 0.6992\n",
            "Iteration 35000, Loss: 0.5682\n",
            "Iteration 40000, Loss: 0.5778\n",
            "Iteration 45000, Loss: 1.1783\n"
          ]
        }
      ]
    },
    {
      "cell_type": "code",
      "source": [
        "plt.plot(stepi, lossi)"
      ],
      "metadata": {
        "colab": {
          "base_uri": "https://localhost:8080/",
          "height": 447
        },
        "id": "YgvihYb0z2qN",
        "outputId": "afc14f3a-8569-463d-b67c-98a5236449f0"
      },
      "execution_count": 514,
      "outputs": [
        {
          "output_type": "execute_result",
          "data": {
            "text/plain": [
              "[<matplotlib.lines.Line2D at 0x7e8a00b90fd0>]"
            ]
          },
          "metadata": {},
          "execution_count": 514
        },
        {
          "output_type": "display_data",
          "data": {
            "text/plain": [
              "<Figure size 640x480 with 1 Axes>"
            ],
            "image/png": "[encoded data removed]"
          },
          "metadata": {}
        }
      ]
    },
    {
      "cell_type": "code",
      "source": [
        "# training loss\n",
        "emb = C[Xtr] # (32, 3, 2)\n",
        "h = torch.tanh(emb.view(-1, 30) @ W1 + b1) # (32, 100)\n",
        "logits = h @ W2 + b2 # (32, 27)\n",
        "loss = F.cross_entropy(logits, Ytr)\n",
        "loss"
      ],
      "metadata": {
        "colab": {
          "base_uri": "https://localhost:8080/"
        },
        "id": "MD-E8SzJz5xt",
        "outputId": "0981acd6-0d35-435e-c864-bf1c53fabfbd"
      },
      "execution_count": 515,
      "outputs": [
        {
          "output_type": "execute_result",
          "data": {
            "text/plain": [
              "tensor(0.6507, grad_fn=<NllLossBackward0>)"
            ]
          },
          "metadata": {},
          "execution_count": 515
        }
      ]
    },
    {
      "cell_type": "code",
      "source": [
        "# validation loss\n",
        "emb = C[Xdev] # (32, 3, 2)\n",
        "h = torch.tanh(emb.view(-1, 30) @ W1 + b1) # (32, 100)\n",
        "logits = h @ W2 + b2 # (32, 27)\n",
        "loss = F.cross_entropy(logits, Ydev)\n",
        "loss"
      ],
      "metadata": {
        "colab": {
          "base_uri": "https://localhost:8080/"
        },
        "id": "_0oF5q_5z8g1",
        "outputId": "0021a95d-12d8-4144-9c98-815ca8b8187d"
      },
      "execution_count": 516,
      "outputs": [
        {
          "output_type": "execute_result",
          "data": {
            "text/plain": [
              "tensor(11.9149, grad_fn=<NllLossBackward0>)"
            ]
          },
          "metadata": {},
          "execution_count": 516
        }
      ]
    },
    {
      "cell_type": "code",
      "source": [
        "# test loss\n",
        "emb = C[Xte] # (32, 3, 2)\n",
        "h = torch.tanh(emb.view(-1, 30) @ W1 + b1) # (32, 100)\n",
        "logits = h @ W2 + b2 # (32, 27)\n",
        "loss = F.cross_entropy(logits, Yte)\n",
        "loss"
      ],
      "metadata": {
        "colab": {
          "base_uri": "https://localhost:8080/"
        },
        "id": "QPanrWy1z-hC",
        "outputId": "c7411656-882a-4d74-af80-b326856da04c"
      },
      "execution_count": 517,
      "outputs": [
        {
          "output_type": "execute_result",
          "data": {
            "text/plain": [
              "tensor(10.1757, grad_fn=<NllLossBackward0>)"
            ]
          },
          "metadata": {},
          "execution_count": 517
        }
      ]
    },
    {
      "cell_type": "code",
      "source": [
        "# visualize dimensions 0 and 1 of the embedding matrix C for all characters\n",
        "plt.figure(figsize=(8,8))\n",
        "plt.scatter(C[:,0].data, C[:,1].data, s=200)\n",
        "for i in range(C.shape[0]):\n",
        "    plt.text(C[i,0].item(), C[i,1].item(), itos[i], ha=\"center\", va=\"center\", color='white')\n",
        "plt.grid('minor')"
      ],
      "metadata": {
        "colab": {
          "base_uri": "https://localhost:8080/",
          "height": 852
        },
        "id": "g8cCnADuz_Ar",
        "outputId": "b2510501-718c-427c-ee50-011552a19a6c"
      },
      "execution_count": 518,
      "outputs": [
        {
          "output_type": "error",
          "ename": "KeyError",
          "evalue": "31",
          "traceback": [
            "\u001b[0;31m---------------------------------------------------------------------------\u001b[0m",
            "\u001b[0;31mKeyError\u001b[0m                                  Traceback (most recent call last)",
            "\u001b[0;32m<ipython-input-518-ec0f9f087811>\u001b[0m in \u001b[0;36m<cell line: 0>\u001b[0;34m()\u001b[0m\n\u001b[1;32m      3\u001b[0m \u001b[0mplt\u001b[0m\u001b[0;34m.\u001b[0m\u001b[0mscatter\u001b[0m\u001b[0;34m(\u001b[0m\u001b[0mC\u001b[0m\u001b[0;34m[\u001b[0m\u001b[0;34m:\u001b[0m\u001b[0;34m,\u001b[0m\u001b[0;36m0\u001b[0m\u001b[0;34m]\u001b[0m\u001b[0;34m.\u001b[0m\u001b[0mdata\u001b[0m\u001b[0;34m,\u001b[0m \u001b[0mC\u001b[0m\u001b[0;34m[\u001b[0m\u001b[0;34m:\u001b[0m\u001b[0;34m,\u001b[0m\u001b[0;36m1\u001b[0m\u001b[0;34m]\u001b[0m\u001b[0;34m.\u001b[0m\u001b[0mdata\u001b[0m\u001b[0;34m,\u001b[0m \u001b[0ms\u001b[0m\u001b[0;34m=\u001b[0m\u001b[0;36m200\u001b[0m\u001b[0;34m)\u001b[0m\u001b[0;34m\u001b[0m\u001b[0;34m\u001b[0m\u001b[0m\n\u001b[1;32m      4\u001b[0m \u001b[0;32mfor\u001b[0m \u001b[0mi\u001b[0m \u001b[0;32min\u001b[0m \u001b[0mrange\u001b[0m\u001b[0;34m(\u001b[0m\u001b[0mC\u001b[0m\u001b[0;34m.\u001b[0m\u001b[0mshape\u001b[0m\u001b[0;34m[\u001b[0m\u001b[0;36m0\u001b[0m\u001b[0;34m]\u001b[0m\u001b[0;34m)\u001b[0m\u001b[0;34m:\u001b[0m\u001b[0;34m\u001b[0m\u001b[0;34m\u001b[0m\u001b[0m\n\u001b[0;32m----> 5\u001b[0;31m     \u001b[0mplt\u001b[0m\u001b[0;34m.\u001b[0m\u001b[0mtext\u001b[0m\u001b[0;34m(\u001b[0m\u001b[0mC\u001b[0m\u001b[0;34m[\u001b[0m\u001b[0mi\u001b[0m\u001b[0;34m,\u001b[0m\u001b[0;36m0\u001b[0m\u001b[0;34m]\u001b[0m\u001b[0;34m.\u001b[0m\u001b[0mitem\u001b[0m\u001b[0;34m(\u001b[0m\u001b[0;34m)\u001b[0m\u001b[0;34m,\u001b[0m \u001b[0mC\u001b[0m\u001b[0;34m[\u001b[0m\u001b[0mi\u001b[0m\u001b[0;34m,\u001b[0m\u001b[0;36m1\u001b[0m\u001b[0;34m]\u001b[0m\u001b[0;34m.\u001b[0m\u001b[0mitem\u001b[0m\u001b[0;34m(\u001b[0m\u001b[0;34m)\u001b[0m\u001b[0;34m,\u001b[0m \u001b[0mitos\u001b[0m\u001b[0;34m[\u001b[0m\u001b[0mi\u001b[0m\u001b[0;34m]\u001b[0m\u001b[0;34m,\u001b[0m \u001b[0mha\u001b[0m\u001b[0;34m=\u001b[0m\u001b[0;34m\"center\"\u001b[0m\u001b[0;34m,\u001b[0m \u001b[0mva\u001b[0m\u001b[0;34m=\u001b[0m\u001b[0;34m\"center\"\u001b[0m\u001b[0;34m,\u001b[0m \u001b[0mcolor\u001b[0m\u001b[0;34m=\u001b[0m\u001b[0;34m'white'\u001b[0m\u001b[0;34m)\u001b[0m\u001b[0;34m\u001b[0m\u001b[0;34m\u001b[0m\u001b[0m\n\u001b[0m\u001b[1;32m      6\u001b[0m \u001b[0mplt\u001b[0m\u001b[0;34m.\u001b[0m\u001b[0mgrid\u001b[0m\u001b[0;34m(\u001b[0m\u001b[0;34m'minor'\u001b[0m\u001b[0;34m)\u001b[0m\u001b[0;34m\u001b[0m\u001b[0;34m\u001b[0m\u001b[0m\n",
            "\u001b[0;31mKeyError\u001b[0m: 31"
          ]
        },
        {
          "output_type": "display_data",
          "data": {
            "text/plain": [
              "<Figure size 800x800 with 1 Axes>"
            ],
            "image/png": "[encoded data removed]"
          },
          "metadata": {}
        }
      ]
    },
    {
      "cell_type": "code",
      "source": [
        "# sample from the model\n",
        "g = torch.Generator().manual_seed(2147483647 + 10)\n",
        "\n",
        "for _ in range(20):\n",
        "\n",
        "    out = []\n",
        "    context = [0] * block_size # initialize with all ...\n",
        "    while True:\n",
        "      emb = C[torch.tensor([context])] # (1,block_size,d)\n",
        "      h = torch.tanh(emb.view(1, -1) @ W1 + b1)\n",
        "      logits = h @ W2 + b2\n",
        "      probs = F.softmax(logits, dim=1)\n",
        "      ix = torch.multinomial(probs, num_samples=1, generator=g).item()\n",
        "      context = context[1:] + [ix]\n",
        "      out.append(ix)\n",
        "      if ix == 0:\n",
        "        break\n",
        "\n",
        "    print(''.join(itos[i] for i in out))"
      ],
      "metadata": {
        "colab": {
          "base_uri": "https://localhost:8080/"
        },
        "id": "K5XrAtfH0Jfz",
        "outputId": "933907b0-c016-4a26-efae-8ba84148dfa7"
      },
      "execution_count": 519,
      "outputs": [
        {
          "output_type": "stream",
          "name": "stdout",
          "text": [
            "bingöl.\n",
            "çanakkale.\n",
            "diyarbakırıkkale.\n",
            "trabük.\n",
            "kara.\n",
            "erzurum.\n",
            "sivas.\n",
            "denizli.\n",
            "çanak.\n",
            "van.\n",
            "sivas.\n",
            "ordur.\n",
            "zon.\n",
            "hatay.\n",
            "ardahane.\n",
            "kırklareli.\n",
            "yalova.\n",
            "ankars.\n",
            "manmardahan.\n",
            "samsun.\n"
          ]
        }
      ]
    }
  ]
}